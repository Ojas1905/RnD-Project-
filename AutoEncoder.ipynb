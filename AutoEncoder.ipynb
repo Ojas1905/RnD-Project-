{
 "cells": [
  {
   "cell_type": "code",
   "execution_count": 1,
   "id": "ceb5631b",
   "metadata": {
    "scrolled": true
   },
   "outputs": [
    {
     "name": "stdout",
     "output_type": "stream",
     "text": [
      "WARNING:tensorflow:From C:\\Users\\OJAS\\AppData\\Roaming\\Python\\Python311\\site-packages\\keras\\src\\losses.py:2976: The name tf.losses.sparse_softmax_cross_entropy is deprecated. Please use tf.compat.v1.losses.sparse_softmax_cross_entropy instead.\n",
      "\n"
     ]
    }
   ],
   "source": [
    "import tensorflow.keras as keras"
   ]
  },
  {
   "cell_type": "code",
   "execution_count": 2,
   "id": "29e35661",
   "metadata": {},
   "outputs": [],
   "source": [
    "from tensorflow.keras.datasets import mnist\n",
    "from tensorflow.keras.layers import Dense, Input, Flatten,\\\n",
    "                                    Reshape, LeakyReLU as LR,\\\n",
    "                                    Activation, Dropout\n",
    "from tensorflow.keras.models import Model, Sequential\n",
    "from matplotlib import pyplot as plt\n",
    "import numpy as np"
   ]
  },
  {
   "cell_type": "code",
   "execution_count": 3,
   "id": "3fec9320",
   "metadata": {},
   "outputs": [],
   "source": [
    "(x_train, y_train), (x_test, y_test) = mnist.load_data()\n"
   ]
  },
  {
   "cell_type": "code",
   "execution_count": 4,
   "id": "28e0bd9e",
   "metadata": {},
   "outputs": [],
   "source": [
    "l = 70000\n",
    "\n",
    "x = np.zeros((l,28,28))\n",
    "x[:60000,:,:] = x_train\n",
    "x[60000:,:,:] = x_test\n",
    "\n",
    "y = np.zeros((l))\n",
    "y[:60000] = y_train\n",
    "y[60000:] = y_test"
   ]
  },
  {
   "cell_type": "code",
   "execution_count": 5,
   "id": "6d7fbe36",
   "metadata": {},
   "outputs": [],
   "source": [
    "y = y.astype(np.uint8)"
   ]
  },
  {
   "cell_type": "code",
   "execution_count": 29,
   "id": "fa4ea14b",
   "metadata": {},
   "outputs": [],
   "source": [
    "import os\n",
    "from PIL import Image\n",
    "\n",
    "root_directory = \"mnist_classes\"\n",
    "\n",
    "os.makedirs(root_directory, exist_ok=True)\n",
    "\n",
    "unique_classes = np.unique(y)\n",
    "\n",
    "for class_label in unique_classes:\n",
    "    class_directory = os.path.join(root_directory, str(class_label))\n",
    "    os.makedirs(class_directory, exist_ok=True)\n",
    "\n",
    "for image, label in zip(x_train, y_train):\n",
    "    image_filename = f\"{label}_{np.random.randint(1e6)}.png\"\n",
    "    image_path = os.path.join(root_directory, str(label), image_filename)\n",
    "    img = Image.fromarray(image)\n",
    "    img.save(image_path)\n",
    "\n"
   ]
  },
  {
   "cell_type": "code",
   "execution_count": 6,
   "id": "664d1273",
   "metadata": {},
   "outputs": [],
   "source": [
    "import cv2 as cv\n",
    "import numpy as np\n",
    "import os\n",
    "\n",
    "dir = r\"C:\\Users\\OJAS\\RnD\\mnist_classes\"\n",
    "\n",
    "def create_dataset(number, features, labels):\n",
    "    path = os.path.join(dir, number)\n",
    "    label = number\n",
    "\n",
    "    for img in os.listdir(path):\n",
    "        img_path = os.path.join(path, img)\n",
    "\n",
    "        img_array = cv.imread(img_path)\n",
    "        img_array = cv.cvtColor(img_array, cv.COLOR_BGR2GRAY)\n",
    "        features.append(img_array)\n",
    "        labels.append(label)"
   ]
  },
  {
   "cell_type": "code",
   "execution_count": 7,
   "id": "b737b530",
   "metadata": {},
   "outputs": [],
   "source": [
    "features_0 = []\n",
    "labels_0 = []\n",
    "\n",
    "create_dataset(str(0), features_0, labels_0)"
   ]
  },
  {
   "cell_type": "code",
   "execution_count": 8,
   "id": "7df86cdc",
   "metadata": {},
   "outputs": [],
   "source": [
    "features_0 = np.array(features_0)\n",
    "labels_0 = np.array(labels_0)\n",
    "\n",
    "features_0 = features_0/255"
   ]
  },
  {
   "cell_type": "code",
   "execution_count": 9,
   "id": "88d55c9d",
   "metadata": {},
   "outputs": [
    {
     "data": {
      "image/png": "[encoded data removed]",
      "text/plain": [
       "<Figure size 640x480 with 1 Axes>"
      ]
     },
     "metadata": {},
     "output_type": "display_data"
    }
   ],
   "source": [
    "plt.imshow(features_0[5000], cmap='gray')\n",
    "plt.show()"
   ]
  },
  {
   "cell_type": "code",
   "execution_count": 9,
   "id": "858deec3",
   "metadata": {},
   "outputs": [],
   "source": [
    "train_features = features_0[:4000]\n",
    "test_features = features_0[4000:]"
   ]
  },
  {
   "cell_type": "code",
   "execution_count": null,
   "id": "6b256dc1",
   "metadata": {},
   "outputs": [],
   "source": []
  },
  {
   "cell_type": "code",
   "execution_count": 10,
   "id": "8c245221",
   "metadata": {},
   "outputs": [],
   "source": [
    "import tensorflow as tf\n",
    "from tensorflow.keras.models import Sequential\n",
    "from tensorflow.keras.layers import Activation, Dropout, Dense, Flatten, BatchNormalization, Conv2D, MaxPooling2D, Input"
   ]
  },
  {
   "cell_type": "code",
   "execution_count": 11,
   "id": "5374665c",
   "metadata": {},
   "outputs": [
    {
     "name": "stdout",
     "output_type": "stream",
     "text": [
      "WARNING:tensorflow:From C:\\Users\\OJAS\\AppData\\Roaming\\Python\\Python311\\site-packages\\keras\\src\\backend.py:873: The name tf.get_default_graph is deprecated. Please use tf.compat.v1.get_default_graph instead.\n",
      "\n"
     ]
    }
   ],
   "source": [
    "model = Sequential()\n",
    "model.add(Flatten())\n",
    "# model.add(Dense(500, activation='relu'))\n",
    "model.add(Dense(100, activation='relu'))\n",
    "model.add(Dense(10, activation='relu'))\n",
    "model.add(Dense(100, activation='relu'))\n",
    "# model.add(Dense(500, activation='relu'))\n",
    "model.add(Dense(28*28, activation='sigmoid'))\n",
    "model.add(tf.keras.layers.Reshape((28,-1), input_shape=(28*28,)))\n",
    "\n",
    "# x = Input(shape=(784), name=\"encoder input\")\n",
    "# en1 = Dense(100, activation='')\n",
    "\n",
    "\n"
   ]
  },
  {
   "cell_type": "code",
   "execution_count": 12,
   "id": "dddb8901",
   "metadata": {
    "scrolled": true
   },
   "outputs": [
    {
     "name": "stdout",
     "output_type": "stream",
     "text": [
      "WARNING:tensorflow:From C:\\Users\\OJAS\\AppData\\Roaming\\Python\\Python311\\site-packages\\keras\\src\\optimizers\\__init__.py:309: The name tf.train.Optimizer is deprecated. Please use tf.compat.v1.train.Optimizer instead.\n",
      "\n"
     ]
    }
   ],
   "source": [
    "from keras.losses import MeanSquaredError\n",
    "from sklearn.metrics import accuracy_score, classification_report\n",
    "\n",
    "model.compile(optimizer='adam', loss='MeanSquaredError')"
   ]
  },
  {
   "cell_type": "code",
   "execution_count": 13,
   "id": "e645b270",
   "metadata": {},
   "outputs": [
    {
     "name": "stdout",
     "output_type": "stream",
     "text": [
      "Epoch 1/100\n",
      "WARNING:tensorflow:From C:\\Users\\OJAS\\AppData\\Roaming\\Python\\Python311\\site-packages\\keras\\src\\utils\\tf_utils.py:492: The name tf.ragged.RaggedTensorValue is deprecated. Please use tf.compat.v1.ragged.RaggedTensorValue instead.\n",
      "\n",
      "125/125 [==============================] - 3s 4ms/step - loss: 0.0691\n",
      "Epoch 2/100\n",
      "125/125 [==============================] - 0s 4ms/step - loss: 0.0363\n",
      "Epoch 3/100\n",
      "125/125 [==============================] - 0s 4ms/step - loss: 0.0297\n",
      "Epoch 4/100\n",
      "125/125 [==============================] - 0s 4ms/step - loss: 0.0262\n",
      "Epoch 5/100\n",
      "125/125 [==============================] - 0s 4ms/step - loss: 0.0230\n",
      "Epoch 6/100\n",
      "125/125 [==============================] - 0s 4ms/step - loss: 0.0207\n",
      "Epoch 7/100\n",
      "125/125 [==============================] - 0s 4ms/step - loss: 0.0194\n",
      "Epoch 8/100\n",
      "125/125 [==============================] - 0s 4ms/step - loss: 0.0184\n",
      "Epoch 9/100\n",
      "125/125 [==============================] - 1s 4ms/step - loss: 0.0177\n",
      "Epoch 10/100\n",
      "125/125 [==============================] - 1s 4ms/step - loss: 0.0171\n",
      "Epoch 11/100\n",
      "125/125 [==============================] - 1s 4ms/step - loss: 0.0167\n",
      "Epoch 12/100\n",
      "125/125 [==============================] - 1s 4ms/step - loss: 0.0163\n",
      "Epoch 13/100\n",
      "125/125 [==============================] - 1s 4ms/step - loss: 0.0159\n",
      "Epoch 14/100\n",
      "125/125 [==============================] - 0s 4ms/step - loss: 0.0157\n",
      "Epoch 15/100\n",
      "125/125 [==============================] - 0s 4ms/step - loss: 0.0155\n",
      "Epoch 16/100\n",
      "125/125 [==============================] - 0s 4ms/step - loss: 0.0152\n",
      "Epoch 17/100\n",
      "125/125 [==============================] - 0s 4ms/step - loss: 0.0150\n",
      "Epoch 18/100\n",
      "125/125 [==============================] - 0s 4ms/step - loss: 0.0148\n",
      "Epoch 19/100\n",
      "125/125 [==============================] - 0s 4ms/step - loss: 0.0146\n",
      "Epoch 20/100\n",
      "125/125 [==============================] - 0s 4ms/step - loss: 0.0144\n",
      "Epoch 21/100\n",
      "125/125 [==============================] - 0s 4ms/step - loss: 0.0143\n",
      "Epoch 22/100\n",
      "125/125 [==============================] - 0s 4ms/step - loss: 0.0141\n",
      "Epoch 23/100\n",
      "125/125 [==============================] - 0s 4ms/step - loss: 0.0140\n",
      "Epoch 24/100\n",
      "125/125 [==============================] - 0s 4ms/step - loss: 0.0139\n",
      "Epoch 25/100\n",
      "125/125 [==============================] - 0s 4ms/step - loss: 0.0137\n",
      "Epoch 26/100\n",
      "125/125 [==============================] - 0s 4ms/step - loss: 0.0136\n",
      "Epoch 27/100\n",
      "125/125 [==============================] - 0s 4ms/step - loss: 0.0135\n",
      "Epoch 28/100\n",
      "125/125 [==============================] - 0s 4ms/step - loss: 0.0134\n",
      "Epoch 29/100\n",
      "125/125 [==============================] - 1s 4ms/step - loss: 0.0133\n",
      "Epoch 30/100\n",
      "125/125 [==============================] - 1s 4ms/step - loss: 0.0132\n",
      "Epoch 31/100\n",
      "125/125 [==============================] - 0s 4ms/step - loss: 0.0131\n",
      "Epoch 32/100\n",
      "125/125 [==============================] - 0s 4ms/step - loss: 0.0130\n",
      "Epoch 33/100\n",
      "125/125 [==============================] - 1s 4ms/step - loss: 0.0130\n",
      "Epoch 34/100\n",
      "125/125 [==============================] - 1s 4ms/step - loss: 0.0129\n",
      "Epoch 35/100\n",
      "125/125 [==============================] - 1s 4ms/step - loss: 0.0128\n",
      "Epoch 36/100\n",
      "125/125 [==============================] - 1s 4ms/step - loss: 0.0128\n",
      "Epoch 37/100\n",
      "125/125 [==============================] - 1s 4ms/step - loss: 0.0127\n",
      "Epoch 38/100\n",
      "125/125 [==============================] - 0s 4ms/step - loss: 0.0126\n",
      "Epoch 39/100\n",
      "125/125 [==============================] - 1s 4ms/step - loss: 0.0126\n",
      "Epoch 40/100\n",
      "125/125 [==============================] - 1s 4ms/step - loss: 0.0125\n",
      "Epoch 41/100\n",
      "125/125 [==============================] - 1s 4ms/step - loss: 0.0125\n",
      "Epoch 42/100\n",
      "125/125 [==============================] - 1s 4ms/step - loss: 0.0124\n",
      "Epoch 43/100\n",
      "125/125 [==============================] - 1s 4ms/step - loss: 0.0124\n",
      "Epoch 44/100\n",
      "125/125 [==============================] - 1s 4ms/step - loss: 0.0124\n",
      "Epoch 45/100\n",
      "125/125 [==============================] - 1s 4ms/step - loss: 0.0123\n",
      "Epoch 46/100\n",
      "125/125 [==============================] - 1s 4ms/step - loss: 0.0122\n",
      "Epoch 47/100\n",
      "125/125 [==============================] - 1s 4ms/step - loss: 0.0123\n",
      "Epoch 48/100\n",
      "125/125 [==============================] - 0s 4ms/step - loss: 0.0121\n",
      "Epoch 49/100\n",
      "125/125 [==============================] - 1s 4ms/step - loss: 0.0121\n",
      "Epoch 50/100\n",
      "125/125 [==============================] - 1s 4ms/step - loss: 0.0121\n",
      "Epoch 51/100\n",
      "125/125 [==============================] - 1s 4ms/step - loss: 0.0121\n",
      "Epoch 52/100\n",
      "125/125 [==============================] - 1s 4ms/step - loss: 0.0120\n",
      "Epoch 53/100\n",
      "125/125 [==============================] - 1s 4ms/step - loss: 0.0119\n",
      "Epoch 54/100\n",
      "125/125 [==============================] - 1s 4ms/step - loss: 0.0120\n",
      "Epoch 55/100\n",
      "125/125 [==============================] - 1s 4ms/step - loss: 0.0119\n",
      "Epoch 56/100\n",
      "125/125 [==============================] - 1s 4ms/step - loss: 0.0119\n",
      "Epoch 57/100\n",
      "125/125 [==============================] - 1s 4ms/step - loss: 0.0118\n",
      "Epoch 58/100\n",
      "125/125 [==============================] - 1s 4ms/step - loss: 0.0118\n",
      "Epoch 59/100\n",
      "125/125 [==============================] - 0s 4ms/step - loss: 0.0117\n",
      "Epoch 60/100\n",
      "125/125 [==============================] - 0s 4ms/step - loss: 0.0117\n",
      "Epoch 61/100\n",
      "125/125 [==============================] - 0s 4ms/step - loss: 0.0117\n",
      "Epoch 62/100\n",
      "125/125 [==============================] - 0s 4ms/step - loss: 0.0117\n",
      "Epoch 63/100\n",
      "125/125 [==============================] - 0s 4ms/step - loss: 0.0116\n",
      "Epoch 64/100\n",
      "125/125 [==============================] - 1s 4ms/step - loss: 0.0116\n",
      "Epoch 65/100\n",
      "125/125 [==============================] - 0s 4ms/step - loss: 0.0116\n",
      "Epoch 66/100\n",
      "125/125 [==============================] - 0s 4ms/step - loss: 0.0115\n",
      "Epoch 67/100\n",
      "125/125 [==============================] - 0s 4ms/step - loss: 0.0115\n",
      "Epoch 68/100\n",
      "125/125 [==============================] - 0s 4ms/step - loss: 0.0115\n",
      "Epoch 69/100\n",
      "125/125 [==============================] - 1s 4ms/step - loss: 0.0115\n",
      "Epoch 70/100\n",
      "125/125 [==============================] - 0s 4ms/step - loss: 0.0115\n",
      "Epoch 71/100\n",
      "125/125 [==============================] - 0s 4ms/step - loss: 0.0114\n",
      "Epoch 72/100\n",
      "125/125 [==============================] - 0s 4ms/step - loss: 0.0114\n",
      "Epoch 73/100\n",
      "125/125 [==============================] - 0s 4ms/step - loss: 0.0114\n",
      "Epoch 74/100\n",
      "125/125 [==============================] - 0s 4ms/step - loss: 0.0114\n",
      "Epoch 75/100\n",
      "125/125 [==============================] - 0s 4ms/step - loss: 0.0113\n",
      "Epoch 76/100\n",
      "125/125 [==============================] - 0s 4ms/step - loss: 0.0113\n",
      "Epoch 77/100\n",
      "125/125 [==============================] - 0s 4ms/step - loss: 0.0113\n",
      "Epoch 78/100\n",
      "125/125 [==============================] - 0s 4ms/step - loss: 0.0113\n",
      "Epoch 79/100\n",
      "125/125 [==============================] - 0s 4ms/step - loss: 0.0112\n",
      "Epoch 80/100\n",
      "125/125 [==============================] - 0s 4ms/step - loss: 0.0112\n",
      "Epoch 81/100\n",
      "125/125 [==============================] - 0s 4ms/step - loss: 0.0112\n",
      "Epoch 82/100\n",
      "125/125 [==============================] - 0s 4ms/step - loss: 0.0112\n",
      "Epoch 83/100\n",
      "125/125 [==============================] - 0s 4ms/step - loss: 0.0112\n",
      "Epoch 84/100\n",
      "125/125 [==============================] - 0s 4ms/step - loss: 0.0111\n",
      "Epoch 85/100\n",
      "125/125 [==============================] - 0s 4ms/step - loss: 0.0111\n",
      "Epoch 86/100\n",
      "125/125 [==============================] - 1s 4ms/step - loss: 0.0111\n",
      "Epoch 87/100\n",
      "125/125 [==============================] - 0s 4ms/step - loss: 0.0111\n",
      "Epoch 88/100\n",
      "125/125 [==============================] - 0s 4ms/step - loss: 0.0111\n",
      "Epoch 89/100\n",
      "125/125 [==============================] - 0s 4ms/step - loss: 0.0111\n",
      "Epoch 90/100\n",
      "125/125 [==============================] - 0s 4ms/step - loss: 0.0110\n",
      "Epoch 91/100\n",
      "125/125 [==============================] - 0s 4ms/step - loss: 0.0110\n",
      "Epoch 92/100\n",
      "125/125 [==============================] - 0s 4ms/step - loss: 0.0110\n",
      "Epoch 93/100\n",
      "125/125 [==============================] - 0s 4ms/step - loss: 0.0110\n",
      "Epoch 94/100\n",
      "125/125 [==============================] - 0s 4ms/step - loss: 0.0110\n",
      "Epoch 95/100\n",
      "125/125 [==============================] - 0s 4ms/step - loss: 0.0109\n",
      "Epoch 96/100\n",
      "125/125 [==============================] - 0s 4ms/step - loss: 0.0110\n",
      "Epoch 97/100\n"
     ]
    },
    {
     "name": "stdout",
     "output_type": "stream",
     "text": [
      "125/125 [==============================] - 1s 4ms/step - loss: 0.0109\n",
      "Epoch 98/100\n",
      "125/125 [==============================] - 1s 4ms/step - loss: 0.0109\n",
      "Epoch 99/100\n",
      "125/125 [==============================] - 1s 4ms/step - loss: 0.0109\n",
      "Epoch 100/100\n",
      "125/125 [==============================] - 1s 4ms/step - loss: 0.0109\n"
     ]
    },
    {
     "data": {
      "text/plain": [
       "<keras.src.callbacks.History at 0x2a0ffb9dd90>"
      ]
     },
     "execution_count": 13,
     "metadata": {},
     "output_type": "execute_result"
    }
   ],
   "source": [
    "model.fit(train_features, train_features, epochs=100)"
   ]
  },
  {
   "cell_type": "code",
   "execution_count": 14,
   "id": "7c596c63",
   "metadata": {},
   "outputs": [
    {
     "name": "stdout",
     "output_type": "stream",
     "text": [
      "60/60 [==============================] - 1s 3ms/step - loss: 0.0128\n"
     ]
    },
    {
     "data": {
      "text/plain": [
       "0.01280503161251545"
      ]
     },
     "execution_count": 14,
     "metadata": {},
     "output_type": "execute_result"
    }
   ],
   "source": [
    "model.evaluate(test_features, test_features)"
   ]
  },
  {
   "cell_type": "code",
   "execution_count": 25,
   "id": "c71c9540",
   "metadata": {
    "scrolled": true
   },
   "outputs": [
    {
     "name": "stdout",
     "output_type": "stream",
     "text": [
      "60/60 [==============================] - 0s 2ms/step\n"
     ]
    }
   ],
   "source": [
    "comp1 = model.predict(test_features)\n",
    "\n",
    "comp1 = comp1*255\n",
    "\n",
    "comp1 = comp1.astype(np.uint8)"
   ]
  },
  {
   "cell_type": "code",
   "execution_count": 29,
   "id": "79a55e57",
   "metadata": {
    "scrolled": true
   },
   "outputs": [],
   "source": [
    "def plot_images(original, reconstructed, rows, cols):\n",
    "    fig, axes = plt.subplots(rows, cols, figsize=(12, 6))\n",
    "\n",
    "    for i in range(rows):\n",
    "        for j in range(cols):\n",
    "            if(i==0):           \n",
    "                index = i * cols + j\n",
    "                axes[i, j].imshow(original[j], cmap='gray')\n",
    "                axes[i, j].set_title(\"Original Image\")\n",
    "                axes[i, j].axis('off')\n",
    "            else:\n",
    "                axes[i, j].imshow(reconstructed[j], cmap='gray')\n",
    "                axes[i, j].set_title(\"Reconstructed Image\")\n",
    "                axes[i, j].axis('off')\n",
    "\n",
    "    plt.show()"
   ]
  },
  {
   "cell_type": "code",
   "execution_count": 30,
   "id": "8100d5d0",
   "metadata": {},
   "outputs": [
    {
     "data": {
      "image/png": "[encoded data removed]",
      "text/plain": [
       "<Figure size 1200x600 with 10 Axes>"
      ]
     },
     "metadata": {},
     "output_type": "display_data"
    }
   ],
   "source": [
    "original = test_features[:5]\n",
    "reconstructed = comp1[:5]\n",
    "\n",
    "plot_images(original, reconstructed, 2, 5)"
   ]
  },
  {
   "cell_type": "code",
   "execution_count": null,
   "id": "ca531d78",
   "metadata": {},
   "outputs": [],
   "source": []
  },
  {
   "cell_type": "code",
   "execution_count": null,
   "id": "c00954ec",
   "metadata": {},
   "outputs": [],
   "source": []
  },
  {
   "cell_type": "code",
   "execution_count": null,
   "id": "747b0b4d",
   "metadata": {},
   "outputs": [],
   "source": []
  }
 ],
 "metadata": {
  "kernelspec": {
   "display_name": "Python 3 (ipykernel)",
   "language": "python",
   "name": "python3"
  },
  "language_info": {
   "codemirror_mode": {
    "name": "ipython",
    "version": 3
   },
   "file_extension": ".py",
   "mimetype": "text/x-python",
   "name": "python",
   "nbconvert_exporter": "python",
   "pygments_lexer": "ipython3",
   "version": "3.11.5"
  }
 },
 "nbformat": 4,
 "nbformat_minor": 5
}
